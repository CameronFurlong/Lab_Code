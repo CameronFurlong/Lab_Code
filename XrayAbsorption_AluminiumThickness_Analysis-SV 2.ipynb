{
 "cells": [
  {
   "cell_type": "markdown",
   "metadata": {},
   "source": [
    "# Attenutation as a function of Al absorption thickness\n",
    "## (Verification of Lambert's law)"
   ]
  },
  {
   "cell_type": "markdown",
   "metadata": {},
   "source": [
    "By completing this python notebook you will analyse your experimental count rate measurements of x-rays passing through aluminium to determine if Lambert's Law holds. You'll also estimate the linear attenuation, $\\mu$, of Aluminium with respect to x-rays. As part of this analysis you'll be graphing and curve fitting your data, so you need to begin by importing the necessary modules into python.\n",
    "\n",
    "Step 1. Import numpy and pyplot from matlibplot."
   ]
  },
  {
   "cell_type": "code",
   "execution_count": 1,
   "metadata": {},
   "outputs": [],
   "source": [
    "#you can just run this cell\n",
    "import numpy as np\n",
    "import matplotlib.pyplot as plt\n",
    "%matplotlib inline"
   ]
  },
  {
   "cell_type": "markdown",
   "metadata": {},
   "source": [
    "## Measurements taken with Zr filter"
   ]
  },
  {
   "cell_type": "markdown",
   "metadata": {},
   "source": [
    "Step 2. Enter your experimental data from Table 1 measured WITH the zirconium filter. Make sure your three 1-d arrays, thickness, rawR (mean count rate) and sigmaRawR (uncertainty in count rate) have the same number of entries as each other."
   ]
  },
  {
   "cell_type": "code",
   "execution_count": 2,
   "metadata": {},
   "outputs": [],
   "source": [
    "#thickness data\n",
    "thickness=np.array([0, 0.5, 1, 1.5, 2, 2.5, 3])\n",
    "#Mean count rate data\n",
    "rawR_Zr=np.array([356.500, 149, 63.260, 27.510, 12.470, 6.505, 3.080])\n",
    "#uncertainty in count rate data\n",
    "sigmaRawR_Zr=np.array([1.335, 0.863, 0.562, 0.371, 0.250, 0.180, 0.124])"
   ]
  },
  {
   "cell_type": "markdown",
   "metadata": {},
   "source": [
    "Step 3. Enter the background count rate and its uncertainty. "
   ]
  },
  {
   "cell_type": "code",
   "execution_count": 3,
   "metadata": {},
   "outputs": [],
   "source": [
    "#input mean background count rate\n",
    "Rb=0.194\n",
    "#input uncertainty in background count rate\n",
    "sigmaRb=0.025"
   ]
  },
  {
   "cell_type": "markdown",
   "metadata": {},
   "source": [
    "Step 4. You are now going to calculate the transmission fractions for each thickness of aluminium using Equation (1a) from the lab manual, i.e.\n",
    "\n",
    "$T=\\frac{(R-R_b)}{(R_0-R_b)}.$\n",
    "\n",
    "The value of $R_0$ in the equation is the mean count rate when the aluminium thickness was 0mm. We taken the maximum value of the array rawR to obtain R0. "
   ]
  },
  {
   "cell_type": "code",
   "execution_count": 4,
   "metadata": {},
   "outputs": [
    {
     "name": "stdout",
     "output_type": "stream",
     "text": [
      "[1.         0.4176354  0.17699955 0.07666444 0.03445353 0.0177123\n",
      " 0.00809978]\n",
      "[ 0.         -0.87314647 -1.73160812 -2.5683173  -3.36814378 -4.03349577\n",
      " -4.81591845]\n"
     ]
    }
   ],
   "source": [
    "#max count rate occurs for Al thickness = 0\n",
    "R0_Zr=rawR_Zr.max()\n",
    "#uncertainty of R0 \n",
    "sigmaR0_Zr=sigmaRawR_Zr[rawR_Zr==R0_Zr]\n",
    "#Complete using above equation to calculate transmission measured with Zr filter\n",
    "TZr=(rawR_Zr-Rb)/(R0_Zr-Rb)\n",
    "#Now take the natural log of the transmission ready for plotting against thickness.\n",
    "lnTZr=np.log(TZr)\n",
    "\n",
    "print(TZr)\n",
    "print(lnTZr)"
   ]
  },
  {
   "cell_type": "markdown",
   "metadata": {},
   "source": [
    "Since $T$ is given by,\n",
    "\n",
    "$T=\\frac{(R-R_b)}{(R_0-R_b)}\\\\\n",
    "\\ln{T}=\\ln{(R-R_b)}-\\ln{(R_0-R_b)}.$\n",
    "\n",
    "Due to the uncertainties in $R, R_0, R_b$ there will be uncertainty in our calculated value $\\ln{T}$.\n",
    "\n",
    "The general rule for calculating the statistical uncertainty in a quantity $q$ which depends on independent random variables $x,y,\\text{ and }z$ is:\n",
    "\n",
    "$\\sigma_q=\\sqrt{(\\frac{\\partial q}{\\partial x}\\sigma_x)^2+(\\frac{\\partial q}{\\partial y}\\sigma_y)^2+(\\frac{\\partial q}{\\partial z}\\sigma_z)^2}\\\\\n",
    "\\text{where } \\frac{\\partial q}{\\partial x} \\text{ is the partial derivative of } q \\text{ with respect to }x.$\n",
    "\n",
    "So applying this rule to $\\ln{T}$ we get:\n",
    "\n",
    "$\\sigma_{\\ln{T}}=\\sqrt{(\\frac{\\partial \\ln{T}}{\\partial R}\\sigma_{R})^2+(\\frac{\\partial \\ln{T}}{\\partial R_0}\\sigma_{R_0})^2+(\\frac{\\partial \\ln{T}}{\\partial R_b}\\sigma_{R_b})^2}$. \n",
    "\n",
    "Partial differentiation of the expression for $\\ln{T}$ gives;\n",
    "\n",
    "$\\begin{equation}\n",
    "\\frac{\\partial \\ln{T}}{\\partial R}=(R-R_b)^{-1},\\\\\n",
    "\\frac{\\partial \\ln{T}}{\\partial R_0}=-(R_0-R_b)^{-1},\\\\\n",
    "\\frac{\\partial \\ln{T}}{\\partial R_b}=(R_0-R_b)^{-1}-(R-R_b)^{-1}.\n",
    "\\end{equation}$\n",
    "\n",
    "Step 5. Use these expressions of the partial derivatives and $\\sigma_{\\ln{T}}$ to calculate the uncertainty in $\\ln{T}$."
   ]
  },
  {
   "cell_type": "code",
   "execution_count": 15,
   "metadata": {},
   "outputs": [
    {
     "name": "stdout",
     "output_type": "stream",
     "text": [
      "[0.00529875 0.00690522 0.00967244 0.01411444 0.02079989 0.02902866\n",
      " 0.04397667]\n"
     ]
    }
   ],
   "source": [
    "partialR=1.0/(rawR_Zr-Rb)\n",
    "partialR0=-1.0/(R0_Zr-Rb)\n",
    "partialRb=(1.0/(R0_Zr-Rb)-1.0/(rawR_Zr-Rb))\n",
    "#The following line has been completed for you\n",
    "sigmalnTZr=np.sqrt((partialR*sigmaRawR_Zr)**2+(partialR0*sigmaR0_Zr)**2+(partialRb*sigmaRb)**2)\n",
    "print(sigmalnTZr)"
   ]
  },
  {
   "cell_type": "markdown",
   "metadata": {},
   "source": [
    "Step 6. Make an initial plot of $\\ln{T}$ as a function of thickness, $x$."
   ]
  },
  {
   "cell_type": "code",
   "execution_count": 6,
   "metadata": {},
   "outputs": [
    {
     "data": {
      "text/plain": [
       "Text(0.5,0.98,'Natural logarithm of the transmission of x-rays through Al\\n as a function of Al thickness.')"
      ]
     },
     "execution_count": 6,
     "metadata": {},
     "output_type": "execute_result"
    },
    {
     "data": {
      "image/png": "[encoded data removed]",
      "text/plain": [
       "<Figure size 432x288 with 1 Axes>"
      ]
     },
     "metadata": {},
     "output_type": "display_data"
    }
   ],
   "source": [
    "#you can just run this cell\n",
    "plt.errorbar(thickness,lnTZr,yerr=sigmalnTZr,ls=\"none\",marker=\".\",c=\"g\",ecolor=\"k\",label='with Zr filter')\n",
    "plt.xlabel(\"Al thickness, x (mm)\")\n",
    "plt.ylabel(\"$\\ln{T}$\",position=(0,0.95),rotation=\"horizontal\")\n",
    "plt.suptitle(\"Natural logarithm of the transmission of x-rays through Al\\n as a function of Al thickness.\")"
   ]
  },
  {
   "cell_type": "markdown",
   "metadata": {},
   "source": [
    "From the looks of your plotted experimental data, do you think Lambert's Law holds? \n",
    "\n",
    "\n",
    "If you think it does, continue with step 7.\n",
    "\n",
    "\n",
    "Step 7. Determine the best fitting straight line relationship between thickness and $\\ln{T}$ using np.polyfit. \n",
    "\n",
    "Also get np.polyfit to return the covariance matrix from the fit. The square root of the diagonal elements in the covariance matrix are the standard deviation of the fitted parameters, which is a measure of their uncertainty."
   ]
  },
  {
   "cell_type": "code",
   "execution_count": 21,
   "metadata": {},
   "outputs": [],
   "source": [
    "lnTZr=np.array([ 0.,-0.87314647, -1.73160812, -2.5683173,  -3.36814378, -4.03349577, -4.81591845])\n",
    "\n",
    "thickness=([0, 0.5, 1, 1.5, 2, 2.5, 3])"
   ]
  },
  {
   "cell_type": "code",
   "execution_count": 29,
   "metadata": {},
   "outputs": [
    {
     "ename": "ValueError",
     "evalue": "Input must be 1- or 2-d.",
     "output_type": "error",
     "traceback": [
      "\u001b[1;31m---------------------------------------------------------------------------\u001b[0m",
      "\u001b[1;31mValueError\u001b[0m                                Traceback (most recent call last)",
      "\u001b[1;32m<ipython-input-29-44a9e635ede0>\u001b[0m in \u001b[0;36m<module>\u001b[1;34m()\u001b[0m\n\u001b[0;32m      5\u001b[0m \u001b[1;33m\u001b[0m\u001b[0m\n\u001b[0;32m      6\u001b[0m \u001b[1;31m#Calculating uncertainty in fitted parameters\u001b[0m\u001b[1;33m\u001b[0m\u001b[1;33m\u001b[0m\u001b[0m\n\u001b[1;32m----> 7\u001b[1;33m \u001b[0msd_lnTZrParam\u001b[0m\u001b[1;33m=\u001b[0m\u001b[0mnp\u001b[0m\u001b[1;33m.\u001b[0m\u001b[0msqrt\u001b[0m\u001b[1;33m(\u001b[0m\u001b[0mnp\u001b[0m\u001b[1;33m.\u001b[0m\u001b[0mdiag\u001b[0m\u001b[1;33m(\u001b[0m\u001b[0mcovParam\u001b[0m\u001b[1;33m)\u001b[0m\u001b[1;33m)\u001b[0m\u001b[1;33m\u001b[0m\u001b[0m\n\u001b[0m\u001b[0;32m      8\u001b[0m \u001b[1;31m#Complete the following print statements and record the results in your lab books.\u001b[0m\u001b[1;33m\u001b[0m\u001b[1;33m\u001b[0m\u001b[0m\n\u001b[0;32m      9\u001b[0m \u001b[1;31m# print(\"Gradient of fitted line is {:.4f}\".format(lnTZrParam[0]))\u001b[0m\u001b[1;33m\u001b[0m\u001b[1;33m\u001b[0m\u001b[0m\n",
      "\u001b[1;32mD:\\Anaconda\\lib\\site-packages\\numpy\\lib\\twodim_base.py\u001b[0m in \u001b[0;36mdiag\u001b[1;34m(v, k)\u001b[0m\n\u001b[0;32m    263\u001b[0m         \u001b[1;32mreturn\u001b[0m \u001b[0mdiagonal\u001b[0m\u001b[1;33m(\u001b[0m\u001b[0mv\u001b[0m\u001b[1;33m,\u001b[0m \u001b[0mk\u001b[0m\u001b[1;33m)\u001b[0m\u001b[1;33m\u001b[0m\u001b[0m\n\u001b[0;32m    264\u001b[0m     \u001b[1;32melse\u001b[0m\u001b[1;33m:\u001b[0m\u001b[1;33m\u001b[0m\u001b[0m\n\u001b[1;32m--> 265\u001b[1;33m         \u001b[1;32mraise\u001b[0m \u001b[0mValueError\u001b[0m\u001b[1;33m(\u001b[0m\u001b[1;34m\"Input must be 1- or 2-d.\"\u001b[0m\u001b[1;33m)\u001b[0m\u001b[1;33m\u001b[0m\u001b[0m\n\u001b[0m\u001b[0;32m    266\u001b[0m \u001b[1;33m\u001b[0m\u001b[0m\n\u001b[0;32m    267\u001b[0m \u001b[1;33m\u001b[0m\u001b[0m\n",
      "\u001b[1;31mValueError\u001b[0m: Input must be 1- or 2-d."
     ]
    }
   ],
   "source": [
    "#complete the polyfit statement for a polynomial of degree 1 and weight by the inverse of the uncertainty sigmalnTZr\n",
    "lnTZrParam, covParam=np.polyfit(lnTZr,thickness,1,rcond=None, full=False, w=1/sigmalnTZr, cov=False) \n",
    "#make a label for this line of best fit\n",
    "lnTZrlinelabel='LoBF'\n",
    "\n",
    "#Calculating uncertainty in fitted parameters\n",
    "sd_lnTZrParam=np.sqrt(np.diag(covParam))\n",
    "#Complete the following print statements and record the results in your lab books.\n",
    "# print(\"Gradient of fitted line is {:.4f}\".format(lnTZrParam[0]))\n",
    "print(\"Intercept of fitted line is {:.4f}\")\n",
    "# print(\"Standard deviation in gradient of fitted line is {:.4f}\".format(sd_lnTZrParam[0]))\n",
    "print(\"Standard deviation in intercept of fitted line is {:.4f}\")"
   ]
  },
  {
   "cell_type": "markdown",
   "metadata": {},
   "source": [
    "The gradient of the best fitting line, along with its uncertainty, is your experimental estimate of the attenuation coefficient $\\mu$ for aluminium, made from data collected with the use of a Zr filter. \n",
    "\n",
    "Step 8. Now produce the data for this best fitting line with 'np.polyval' and plot it along with your experimental data. "
   ]
  },
  {
   "cell_type": "code",
   "execution_count": 46,
   "metadata": {},
   "outputs": [
    {
     "data": {
      "text/plain": [
       "<matplotlib.legend.Legend at 0x1e8f8796ef0>"
      ]
     },
     "execution_count": 46,
     "metadata": {},
     "output_type": "execute_result"
    },
    {
     "data": {
      "image/png": "[encoded data removed]",
      "text/plain": [
       "<Figure size 432x288 with 1 Axes>"
      ]
     },
     "metadata": {},
     "output_type": "display_data"
    }
   ],
   "source": [
    "# lnTZrBestLine=np.polyval(lnTZrParam,thickness)\n",
    "#plotting log of experimental data with markers only and label it\n",
    "plt.errorbar(thickness,lnTZr,yerr=sigmalnTZr,ls=\"none\",marker=\".\",c=\"g\",ecolor=\"k\",label='with Zr filter')\n",
    "#plot line of best fit using only a line in a different colour and label it\n",
    "plt.plot(thickness,lnTZr)\n",
    "#add axes labels\n",
    "plt.xlabel('thickness')\n",
    "plt.ylabel('Counts')    \n",
    "#add title\n",
    "plt.suptitle('Counts as a function of Thickness')    \n",
    "#add legend\n",
    "plt.legend()    "
   ]
  },
  {
   "cell_type": "markdown",
   "metadata": {},
   "source": [
    "## Measurements taken without Zr filter"
   ]
  },
  {
   "cell_type": "markdown",
   "metadata": {},
   "source": [
    "Repeat steps 2, 4, 5, 7 and 8 with your experimental data taken WITHOUT the Zr filter, to estimate the attenuation coefficient of aluminium, $\\mu$, made without the use of the Zr filter."
   ]
  },
  {
   "cell_type": "code",
   "execution_count": 31,
   "metadata": {},
   "outputs": [],
   "source": [
    "1461,1432,#step 2- enter mean count rate data without Zr filter\n",
    "rawR_noZr=np.array([1758,780.8,371.8,181.7,93.68,54.37,29.89])\n",
    "#uncertainty of count rate without Zr filter\n",
    "sigmaRawR_noZr=np.array([2.965,1.976,1.3634,0.9531,0.6844,0.5214,0.3866])"
   ]
  },
  {
   "cell_type": "code",
   "execution_count": 35,
   "metadata": {},
   "outputs": [
    {
     "name": "stdout",
     "output_type": "stream",
     "text": [
      "[1.         0.44407972 0.21140331 0.10325713 0.05318334 0.03082024\n",
      " 0.01689379]\n",
      "[ 0.         -0.81175118 -1.55398757 -2.27053301 -2.93401003 -3.47958371\n",
      " -4.08080936]\n"
     ]
    }
   ],
   "source": [
    "#Step 4 - calculating natural log of the transmission of x-rays WITHOUT the Zr filter. Rb is the same WITH/OUT filter.\n",
    "R0_noZr=rawR_noZr.max()\n",
    "sigmaR0_noZr=sigmaRawR_noZr[rawR_noZr==R0_noZr]\n",
    "#Calculate transmission measured without Zr filter\n",
    "T_noZr=(rawR_noZr-Rb)/(R0_noZr-Rb)\n",
    "#Now take the natural log of the transmission ready for plotting against thickness.\n",
    "lnT_noZr=np.log(T_noZr)\n",
    "\n",
    "print(T_noZr)\n",
    "print(lnT_noZr)"
   ]
  },
  {
   "cell_type": "code",
   "execution_count": 36,
   "metadata": {},
   "outputs": [],
   "source": [
    "#Step 5 - complete to calculate uncertainty in ln(T) WITHOUT Zr filter, via partial derivatives\n",
    "partialR_noZr=1.0/(rawR_noZr-Rb)\n",
    "partialR0_noZr=-1.0/(R0_noZr-Rb)\n",
    "partialRb_noZr=(1.0/(R0_noZr-Rb)-1.0/(rawR_noZr-Rb))\n",
    "sigmalnT_noZr=np.sqrt((partialR_noZr*sigmaRawR_noZr)**2+(partialR0_noZr*sigmaR0_noZr)**2+(partialRb_noZr*sigmaRb)**2)"
   ]
  },
  {
   "cell_type": "code",
   "execution_count": 40,
   "metadata": {},
   "outputs": [
    {
     "ename": "ValueError",
     "evalue": "Input must be 1- or 2-d.",
     "output_type": "error",
     "traceback": [
      "\u001b[1;31m---------------------------------------------------------------------------\u001b[0m",
      "\u001b[1;31mValueError\u001b[0m                                Traceback (most recent call last)",
      "\u001b[1;32m<ipython-input-40-b12f2859cc58>\u001b[0m in \u001b[0;36m<module>\u001b[1;34m()\u001b[0m\n\u001b[0;32m      4\u001b[0m \u001b[0mlnT_noZrlinelabel\u001b[0m\u001b[1;33m=\u001b[0m\u001b[1;34m'LoBF'\u001b[0m\u001b[1;33m\u001b[0m\u001b[0m\n\u001b[0;32m      5\u001b[0m \u001b[1;31m#Calculating uncertainty in fitted parameters\u001b[0m\u001b[1;33m\u001b[0m\u001b[1;33m\u001b[0m\u001b[0m\n\u001b[1;32m----> 6\u001b[1;33m \u001b[0msd_lnT_noZrParam\u001b[0m\u001b[1;33m=\u001b[0m\u001b[0mnp\u001b[0m\u001b[1;33m.\u001b[0m\u001b[0msqrt\u001b[0m\u001b[1;33m(\u001b[0m\u001b[0mnp\u001b[0m\u001b[1;33m.\u001b[0m\u001b[0mdiag\u001b[0m\u001b[1;33m(\u001b[0m\u001b[0mnoZrCovParam\u001b[0m\u001b[1;33m)\u001b[0m\u001b[1;33m)\u001b[0m\u001b[1;33m\u001b[0m\u001b[0m\n\u001b[0m\u001b[0;32m      7\u001b[0m \u001b[1;31m#Complete the following print statements and record the results in your lab books.\u001b[0m\u001b[1;33m\u001b[0m\u001b[1;33m\u001b[0m\u001b[0m\n\u001b[0;32m      8\u001b[0m \u001b[0mprint\u001b[0m\u001b[1;33m(\u001b[0m\u001b[1;34m\"Gradient of fitted line for no Zr filter is {:.4f}\"\u001b[0m\u001b[1;33m.\u001b[0m\u001b[0mformat\u001b[0m\u001b[1;33m(\u001b[0m\u001b[0mlnT_noZrParam\u001b[0m\u001b[1;33m[\u001b[0m\u001b[1;36m0\u001b[0m\u001b[1;33m]\u001b[0m\u001b[1;33m)\u001b[0m\u001b[1;33m)\u001b[0m\u001b[1;33m\u001b[0m\u001b[0m\n",
      "\u001b[1;32mD:\\Anaconda\\lib\\site-packages\\numpy\\lib\\twodim_base.py\u001b[0m in \u001b[0;36mdiag\u001b[1;34m(v, k)\u001b[0m\n\u001b[0;32m    263\u001b[0m         \u001b[1;32mreturn\u001b[0m \u001b[0mdiagonal\u001b[0m\u001b[1;33m(\u001b[0m\u001b[0mv\u001b[0m\u001b[1;33m,\u001b[0m \u001b[0mk\u001b[0m\u001b[1;33m)\u001b[0m\u001b[1;33m\u001b[0m\u001b[0m\n\u001b[0;32m    264\u001b[0m     \u001b[1;32melse\u001b[0m\u001b[1;33m:\u001b[0m\u001b[1;33m\u001b[0m\u001b[0m\n\u001b[1;32m--> 265\u001b[1;33m         \u001b[1;32mraise\u001b[0m \u001b[0mValueError\u001b[0m\u001b[1;33m(\u001b[0m\u001b[1;34m\"Input must be 1- or 2-d.\"\u001b[0m\u001b[1;33m)\u001b[0m\u001b[1;33m\u001b[0m\u001b[0m\n\u001b[0m\u001b[0;32m    266\u001b[0m \u001b[1;33m\u001b[0m\u001b[0m\n\u001b[0;32m    267\u001b[0m \u001b[1;33m\u001b[0m\u001b[0m\n",
      "\u001b[1;31mValueError\u001b[0m: Input must be 1- or 2-d."
     ]
    }
   ],
   "source": [
    "#Step 7 - complete the polyfit statement to fit a polynomial of degree 1, weighted by 1/sigmalnT_noZr\n",
    "lnT_noZrParam, noZrCovParam=np.polyfit(thickness,lnT_noZr,1,w=1/sigmalnT_noZr)\n",
    "#make an appropriate label for this best fitting line\n",
    "lnT_noZrlinelabel='LoBF'\n",
    "#Calculating uncertainty in fitted parameters\n",
    "sd_lnT_noZrParam=np.sqrt(np.diag(noZrCovParam))\n",
    "#Complete the following print statements and record the results in your lab books.\n",
    "print(\"Gradient of fitted line for no Zr filter is {:.4f}\".format(lnT_noZrParam[0]))\n",
    "print(\"Intercept of fitted line for noZr filter is {:.4f}\")\n",
    "print(\"Std. dev. in gradient of fitted line is {:.4f}\".format(sd_lnT_noZrParam[0]))\n",
    "print(\"Std. dev. in intercept of fitted line is {:.4f}\")\n",
    "#Making data from best fit line to data without Zr filter using polyval \n",
    "lnT_noZrBestLine=np.polyval(lnT_noZrParam,thickness)"
   ]
  },
  {
   "cell_type": "code",
   "execution_count": 48,
   "metadata": {},
   "outputs": [
    {
     "data": {
      "image/png": "[encoded data removed]",
      "text/plain": [
       "<Figure size 432x288 with 1 Axes>"
      ]
     },
     "metadata": {},
     "output_type": "display_data"
    }
   ],
   "source": [
    "#step 8 - plotting both sets of data and their best fitting lines\n",
    "plt.errorbar(thickness,lnTZr,yerr=sigmalnTZr,ls=\"none\",marker=\".\",c=\"g\",ecolor=\"k\",label='with Zr filter')\n",
    "plt.errorbar(thickness,lnT_noZr,yerr=sigmalnT_noZr,ls=\"none\",marker=\".\",c=\"b\",ecolor=\"k\",label='without Zr filter')\n",
    "#plotting both lines of best fit and labelling\n",
    "plt.plot(thickness,lnTZr)\n",
    "plt.plot(thickness,lnT_noZr)\n",
    "#add axes labels\n",
    "plt.xlabel('Thickness')\n",
    "plt.ylabel('Counts')\n",
    "#add title\n",
    "plt.suptitle ('Counts as a function of Thickness (With and Without Zr Filter)')    \n",
    "#add legend\n",
    "plt.legend()\n",
    "#Enter an appropriate filename for the plot\n",
    "plt.savefig(\"myplot.pdf\",dpi=300,orientation=\"landscape\")"
   ]
  },
  {
   "cell_type": "code",
   "execution_count": 16,
   "metadata": {},
   "outputs": [],
   "source": [
    "np.polyfit?"
   ]
  },
  {
   "cell_type": "markdown",
   "metadata": {},
   "source": [
    "### Now print out a hard copy of the pdf file containing your graph and stick it in your lab book!"
   ]
  }
 ],
 "metadata": {
  "kernelspec": {
   "display_name": "Python 3",
   "language": "python",
   "name": "python3"
  },
  "language_info": {
   "codemirror_mode": {
    "name": "ipython",
    "version": 3
   },
   "file_extension": ".py",
   "mimetype": "text/x-python",
   "name": "python",
   "nbconvert_exporter": "python",
   "pygments_lexer": "ipython3",
   "version": "3.6.5"
  }
 },
 "nbformat": 4,
 "nbformat_minor": 2
}
