{
 "cells": [
  {
   "cell_type": "markdown",
   "metadata": {},
   "source": [
    "# Plotting the linear attenuation $\\mu$ as a function of atomic number, Z."
   ]
  },
  {
   "cell_type": "markdown",
   "metadata": {
    "collapsed": true
   },
   "source": [
    "The purpose of this python notebook is to analyse your experimental count rate measurements taken of x-rays passing through absorbers of the same thickness (x=0.05mm), but different atomic numbers, Z. As part of this analysis you'll be graphing your experimental data measured with and without the Zr filter. You'll start by importing the necessary modules into python for graphing.\n",
    "\n",
    "Step 1. Import numpy and pyplot from matlibplot."
   ]
  },
  {
   "cell_type": "code",
   "execution_count": 1,
   "metadata": {},
   "outputs": [],
   "source": [
    "#you can just run this cell\n",
    "import numpy as np\n",
    "import matplotlib.pyplot as plt\n",
    "%matplotlib inline"
   ]
  },
  {
   "cell_type": "markdown",
   "metadata": {},
   "source": [
    "## Measurements taken with Zr filter "
   ]
  },
  {
   "cell_type": "markdown",
   "metadata": {},
   "source": [
    "Step 2. Enter your experimental data from Table 2 measured WITH the zirconium filter. Make sure each of the 1-d arrays contain the same number of entries as each other."
   ]
  },
  {
   "cell_type": "code",
   "execution_count": 2,
   "metadata": {},
   "outputs": [],
   "source": [
    "#enter Z number data\n",
    "Znumber=np.array([0,6,13,26,29,40,47])\n",
    "#Enter the raw mean count rate with Zr filter\n",
    "rawR_Zr=np.array([543.9,510.7,224.3,35.12,3.853,69.44,19.48])\n",
    "#enter its uncertainty\n",
    "sigmaRawR_Zr=np.array([4.257933771,4.125934238,2.734349405,0.342150065,0.113328431,0.481109828,0.254820198])"
   ]
  },
  {
   "cell_type": "markdown",
   "metadata": {},
   "source": [
    "Step 3. Enter the background count rate and its uncertainty. (This should have been measured over 300 seconds.)"
   ]
  },
  {
   "cell_type": "code",
   "execution_count": 3,
   "metadata": {},
   "outputs": [],
   "source": [
    "#input mean background count rate\n",
    "Rb=0.194\n",
    "#input uncertainty in background count rate\n",
    "sigmaRb=0.025"
   ]
  },
  {
   "cell_type": "markdown",
   "metadata": {},
   "source": [
    "Step 4. You are now going to calculate the transmission fractions for each absorber using Equation (1a) from the lab manual. The value of $R_0$ in the equation is the mean count rate when there was no absorber, which should correspond to the largest count rate measured."
   ]
  },
  {
   "cell_type": "code",
   "execution_count": 4,
   "metadata": {},
   "outputs": [
    {
     "name": "stdout",
     "output_type": "stream",
     "text": [
      "[1.         0.93893759 0.41218232 0.06423692 0.00672974 0.12735927\n",
      " 0.03547138]\n"
     ]
    }
   ],
   "source": [
    "R0_Zr=rawR_Zr.max()\n",
    "sigmaR0_Zr=sigmaRawR_Zr[rawR_Zr==R0_Zr]\n",
    "#Calculate transmission measured with Zr filter (Equation (1a))\n",
    "TZr=(rawR_Zr-Rb)/(R0_Zr-Rb)\n",
    "\n",
    "\n",
    "print(TZr)"
   ]
  },
  {
   "cell_type": "markdown",
   "metadata": {},
   "source": [
    "Step 5. Now use Equation (3) to calculate the linear attenuation for each absorber, knowing that each was 0.05mm thick."
   ]
  },
  {
   "cell_type": "code",
   "execution_count": 5,
   "metadata": {},
   "outputs": [
    {
     "name": "stdout",
     "output_type": "stream",
     "text": [
      "[ -0.           1.26012538  17.72579011  54.90354244 100.02437547\n",
      "  41.21486556  66.78058431]\n"
     ]
    }
   ],
   "source": [
    "#Taking the natural log of the transmission.\n",
    "lnTZr=np.log(TZr)\n",
    "#Enter the thickness of each absorber in mm.\n",
    "x=thickness=0.05\n",
    "#Complete using Equation (3)\n",
    "mu_Zr=-lnTZr/x\n",
    "\n",
    "print(mu_Zr)"
   ]
  },
  {
   "cell_type": "markdown",
   "metadata": {},
   "source": [
    "Step 6. Next you are going to estimate the uncertainty in the linear attenuation for each absorber. You can assume no uncertainty in the thickness of the absorbers, so from Equation (3) this means,\n",
    "\n",
    "$\\sigma_{\\mu}=\\sqrt{(\\frac{\\partial \\mu}{\\partial \\ln{T}}\\sigma_{\\ln{T}})^2}\\\\\n",
    "\\sigma_{\\mu}=\\frac{\\partial \\mu}{\\partial \\ln{T}}\\sigma_{\\ln{T}}.$\n",
    "\n",
    "\n",
    "Given your experience of calculating the uncertainty in the natural log of the transmission from the uncertainty in the count rates (see XrayAbsorption_AluminiuThickness_Analysis-SV.ipynb), you should be able to follow this calculation of the uncertainty $\\sigma_{\\mu}$.\n"
   ]
  },
  {
   "cell_type": "code",
   "execution_count": 6,
   "metadata": {},
   "outputs": [],
   "source": [
    "#you can just run this cell\n",
    "partialR=1.0/(rawR_Zr-Rb)\n",
    "partialR0=-1.0/(R0_Zr-Rb)\n",
    "partialRb=1.0/(R0_Zr-Rb)-1.0/(rawR_Zr-Rb)\n",
    "sigmalnTZr=np.sqrt((partialR*sigmaRawR_Zr)**2+(partialR0*sigmaR0_Zr)**2+(partialRb*sigmaRb)**2)\n",
    "sigmaMuZr=-sigmalnTZr/thickness"
   ]
  },
  {
   "cell_type": "markdown",
   "metadata": {},
   "source": [
    "Step 7. Make an initial plot of $\\mu$ as a function of atomic number $Z$. Make sure to display uncertainties."
   ]
  },
  {
   "cell_type": "code",
   "execution_count": 7,
   "metadata": {
    "scrolled": true
   },
   "outputs": [
    {
     "data": {
      "text/plain": [
       "Text(0.5,0.98,'mu as a function of Z')"
      ]
     },
     "execution_count": 7,
     "metadata": {},
     "output_type": "execute_result"
    },
    {
     "data": {
      "image/png": "[encoded data removed]",
      "text/plain": [
       "<Figure size 432x288 with 1 Axes>"
      ]
     },
     "metadata": {},
     "output_type": "display_data"
    }
   ],
   "source": [
    "#complete the following\n",
    "plt.errorbar(Znumber,mu_Zr)\n",
    "#add axes labels\n",
    "plt.xlabel('Z')             \n",
    "plt.ylabel('mu')\n",
    "#add title\n",
    "plt.suptitle('mu as a function of Z')\n",
    "#add legend\n",
    "     "
   ]
  },
  {
   "cell_type": "markdown",
   "metadata": {},
   "source": [
    "## Measurements taken without Zr filter "
   ]
  },
  {
   "cell_type": "markdown",
   "metadata": {},
   "source": [
    "Now repeat steps 2,4,5 and 6 with your experimental data taken WITHOUT the Zr filter."
   ]
  },
  {
   "cell_type": "code",
   "execution_count": 8,
   "metadata": {},
   "outputs": [],
   "source": [
    "#Step 2\n",
    "#enter the raw mean count rate measured without Zr filter\n",
    "rawR_noZr=np.array([1461,1432,860.6,110.2,10.06,117.4,84.27])\n",
    "#enter its associated uncertainty\n",
    "sigmaRawR_noZr=np.array([6.9785,6.9089,5.355,0.6061,0.1831,0.6256,0.53])"
   ]
  },
  {
   "cell_type": "code",
   "execution_count": 9,
   "metadata": {},
   "outputs": [
    {
     "name": "stdout",
     "output_type": "stream",
     "text": [
      "[1.         0.98014795 0.58899402 0.075305   0.00675381 0.08023379\n",
      " 0.05755453]\n"
     ]
    }
   ],
   "source": [
    "#Step 4 - get the maximum raw count rate without an absorber present, and its uncertainty\n",
    "R0_noZr=rawR_noZr.max()\n",
    "sigmaR0_noZr=sigmaR0_noZr=sigmaRawR_noZr[rawR_noZr==R0_noZr]\n",
    "#Calculate transmission measured without Zr filter using Equation (1a)\n",
    "T_noZr=(rawR_noZr-Rb)/(R0_noZr-Rb)\n",
    "\n",
    "print(T_noZr)"
   ]
  },
  {
   "cell_type": "code",
   "execution_count": 10,
   "metadata": {},
   "outputs": [
    {
     "name": "stdout",
     "output_type": "stream",
     "text": [
      "[-0.          0.40103507 10.58678493 51.72417415 99.95298229 50.45621094\n",
      " 57.10044931]\n"
     ]
    }
   ],
   "source": [
    "#Step 5\n",
    "#Now take the natural log of the transmission.\n",
    "lnT_noZr=np.log(T_noZr)\n",
    "#Calculate mu using Equation (3) from notes\n",
    "mu_noZr= -lnT_noZr/x\n",
    "\n",
    "print(mu_noZr)"
   ]
  },
  {
   "cell_type": "code",
   "execution_count": 11,
   "metadata": {},
   "outputs": [],
   "source": [
    "#Step 6 - calculating uncertainty in mu_noZr\n",
    "#you can just run this cell\n",
    "partialR_noZr=1.0/(rawR_noZr-Rb)\n",
    "partialR0_noZr=-1.0/(R0_noZr-Rb)\n",
    "partialRb_noZr=1.0/(R0_noZr-Rb)-1.0/(rawR_noZr-Rb)\n",
    "sigmalnT_noZr=np.sqrt((partialR_noZr*sigmaRawR_noZr)**2+(partialRb_noZr*sigmaRb)**2)\n",
    "sigmaMu_noZr=-sigmalnT_noZr/thickness"
   ]
  },
  {
   "cell_type": "markdown",
   "metadata": {},
   "source": [
    "Plot both sets of experimental results (with and without Zr filter) on the same graph, with their respective labels. Then save figure to a pdf file."
   ]
  },
  {
   "cell_type": "code",
   "execution_count": 18,
   "metadata": {},
   "outputs": [
    {
     "data": {
      "image/png": "[encoded data removed]",
      "text/plain": [
       "<Figure size 432x288 with 1 Axes>"
      ]
     },
     "metadata": {},
     "output_type": "display_data"
    }
   ],
   "source": [
    "#plot of mu_Zr as a function of Znumber and label\n",
    "plt.errorbar(Znumber,mu_Zr,yerr=sigmaMuZr,ls=\"none\",marker=\".\",c=\"r\",ecolor=\"k\",label='with Zr filter')\n",
    "#plot mu_noZr as a function of Znumber and label\n",
    "plt.errorbar(Znumber,mu_Zr)\n",
    "#add axes labels    \n",
    "plt.xlabel('Z')\n",
    "plt.ylabel('mu')    \n",
    "#add title\n",
    "plt.suptitle('mu as a function of Z')\n",
    "#add legend\n",
    "\n",
    "#Enter an appropriate pdf filename to save the figure\n",
    "plt.savefig(\"myplot.pdf\",dpi=300,orientation=\"landscape\")"
   ]
  },
  {
   "cell_type": "markdown",
   "metadata": {
    "collapsed": true
   },
   "source": [
    "### Now print out a hard-copy of your pdf file and stick it in your lab book! "
   ]
  }
 ],
 "metadata": {
  "kernelspec": {
   "display_name": "Python 3",
   "language": "python",
   "name": "python3"
  },
  "language_info": {
   "codemirror_mode": {
    "name": "ipython",
    "version": 3
   },
   "file_extension": ".py",
   "mimetype": "text/x-python",
   "name": "python",
   "nbconvert_exporter": "python",
   "pygments_lexer": "ipython3",
   "version": "3.6.5"
  }
 },
 "nbformat": 4,
 "nbformat_minor": 2
}
