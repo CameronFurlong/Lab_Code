{
 "cells": [
  {
   "cell_type": "markdown",
   "metadata": {},
   "source": [
    "# Determining Planck's constant from experimental data"
   ]
  },
  {
   "cell_type": "markdown",
   "metadata": {},
   "source": [
    "By this stage in the experiment, you have determined the minimum wavelength of Bremsstrahlung at 8 different operating voltages AND have an estimate of the uncertainty in each measurement of minimum wavelength. \n",
    "\n",
    "By completing the following notebook, you will plot your experimental data (including uncertainties), fit a straight line to your plot and determine Planck's constant from the gradient of that fitted line. The X-ray software you have been using offers you limited facility to do this but it has no scope for including the effects of uncertainty on the final estimate of Planck's constant.\n",
    "\n",
    "Step 1. Import numpy and pyplot from matplotlib. Also call the command that ensures matplotlib plots happen inline, within the current window."
   ]
  },
  {
   "cell_type": "code",
   "execution_count": 1,
   "metadata": {},
   "outputs": [],
   "source": [
    "#you can just run this cell\n",
    "import numpy as np\n",
    "import matplotlib.pyplot as plt\n",
    "%matplotlib inline"
   ]
  },
  {
   "cell_type": "markdown",
   "metadata": {},
   "source": [
    "Step 2. Enter your experimental measurements into three 1-d numpy arrays; voltages, minLambda and deltaLambda. Make sure each of these 1-d arrays has the same number of entries as each other."
   ]
  },
  {
   "cell_type": "code",
   "execution_count": 26,
   "metadata": {},
   "outputs": [
    {
     "data": {
      "text/plain": [
       "[<matplotlib.lines.Line2D at 0x1178c5eb8>]"
      ]
     },
     "execution_count": 26,
     "metadata": {},
     "output_type": "execute_result"
    },
    {
     "data": {
      "image/png": "[encoded data removed]",
      "text/plain": [
       "<Figure size 432x288 with 1 Axes>"
      ]
     },
     "metadata": {},
     "output_type": "display_data"
    }
   ],
   "source": [
    "#enter your experimental measurements for voltage in kV\n",
    "voltages=np.array([35000.,34000.,32000.,30000.,28000.,26000.,24000.,22000.])\n",
    "#enter your experimental measurements for the minimum wavelength in pm\n",
    "minLambda=np.array([33.25*1e-12,33.95*1e-12,36.25*1e-12,38.75*1e-12,41.75*1e-12,45.15*1e-12,49.45*1e-12,54.05*1e-12])\n",
    "#enter your estimate of the uncertainty in the minimum wavelength measurements in pm\n",
    "deltaLambda=np.array([0.15,0.05,0.05,0.15,0.15,0.05,0.05,0.15])\n",
    "#Assuming your uncertainty estimates are the 95% confidence interval for a Gaussian distribution (2sigma), \n",
    "#the standard deviation is approximately half these values.\n",
    "sigmaLambda=deltaLambda/2.0\n",
    "\n",
    "\n",
    "plt.plot(1./voltages,minLambda)"
   ]
  },
  {
   "cell_type": "markdown",
   "metadata": {},
   "source": [
    "According to the Duane-Hunt relation, $\\lambda_{min}$ is proportional to the $\\it{reciprocal}$ of the operating voltage of the X-ray apparatus, i.e. $\\frac{1}{U}$.\n",
    "\n",
    "Step 3. Now you are going to fit a polynomial of order 1 to your experimental measurements, \n",
    "\n",
    "$\\begin{equation*}\n",
    "\\lambda_{min}=m(\\frac{1}{U})+b\n",
    "\\end{equation*}\n",
    "$\n",
    "\n",
    "and find the values of parameters $m$ and $b$ for the best fitting line. You will weight the $\\lambda_{min}$ values according to their uncertainty."
   ]
  },
  {
   "cell_type": "code",
   "execution_count": 27,
   "metadata": {},
   "outputs": [
    {
     "name": "stdout",
     "output_type": "stream",
     "text": [
      "The line of best fit is given by 1.255e-06(1/U)+-2.973e-12\n"
     ]
    }
   ],
   "source": [
    "#Fit a polynomial of order 1 (line) and return the fitted parameters and their covariance \n",
    "linearParam,covParam=np.polyfit(1./voltages, minLambda,1,w=1./sigmaLambda,cov=True)\n",
    "print(\"The line of best fit is given by {:.3e}(1/U)+{:.3e}\".format(linearParam[0],linearParam[1]))"
   ]
  },
  {
   "cell_type": "code",
   "execution_count": 4,
   "metadata": {},
   "outputs": [
    {
     "name": "stdout",
     "output_type": "stream",
     "text": [
      "[1255.10040534   -2.97304146]\n"
     ]
    }
   ],
   "source": [
    "print(linearParam)"
   ]
  },
  {
   "cell_type": "code",
   "execution_count": 14,
   "metadata": {},
   "outputs": [
    {
     "name": "stdout",
     "output_type": "stream",
     "text": [
      "[ 1.25510041 -2.97304146]\n",
      "[[ 1.18277367e-04 -4.16981927e-03]\n",
      " [-4.16981927e-03  1.50159631e-01]]\n"
     ]
    }
   ],
   "source": [
    "linearParam,covParam=np.polyfit(1./(voltages*1e-3), minLambda,1,w=1./sigmaLambda,cov=True)\n",
    "print(linearParam)\n",
    "print(covParam)"
   ]
  },
  {
   "cell_type": "markdown",
   "metadata": {},
   "source": [
    "The square root of the diagonal elements in the covariance matrix are the standard deviation of the fitted parameters, which is a measure of their uncertainty.\n",
    "\n",
    "Step 4. Complete the next cell to print out the standard deviation of each of the fitted parameters and record it in your lab book. \n",
    "\n",
    "(Hint: The numpy function np.diag() will extract the diagonals of a matrix. The numpy function np.sqrt() will take the square root of all numbers in an array.)"
   ]
  },
  {
   "cell_type": "code",
   "execution_count": 6,
   "metadata": {},
   "outputs": [
    {
     "name": "stdout",
     "output_type": "stream",
     "text": [
      "The uncertainty in the fitted gradient is 1.088e+01\n",
      "The uncertainty in the fitted intercept is 3.875e-01\n"
     ]
    }
   ],
   "source": [
    "#Calculate the standard deviation from the covariance matrix, covParam.\n",
    "sdParam=np.sqrt(np.diag(covParam))\n",
    "#Complete the following print statements\n",
    "print(\"The uncertainty in the fitted gradient is {:.3e}\".format(sdParam[0]))\n",
    "print(\"The uncertainty in the fitted intercept is {:.3e}\".format(sdParam[1]))"
   ]
  },
  {
   "cell_type": "markdown",
   "metadata": {},
   "source": [
    "According to Duane and Hunt's law,\n",
    "\n",
    "$\n",
    "\\lambda_{min}=\\frac{hc}{e}\\cdot(\\frac{1}{U})\n",
    "$\n",
    "\n",
    "where $c=299792458 (m/s)$, the velocity of light in a vacuum, $e=1.60217662\\times 10^{-19}C$, the charge on an electron and $h$ is Planck's constant.\n",
    "\n",
    "The gradient of your fitted line gives you an estimate of the proportionality factor\n",
    "\n",
    "$\n",
    "gradient=\\frac{hc}{e}\\\\\n",
    "\\text{which we can rearrange to estimate }h\\\\\n",
    "h=\\frac{gradient\\cdot e}{c}.$\n",
    "\n",
    "Step 5. Calculate your estimate of Planck's constant from your line's fitted gradient in the next cell. Remember the gradient of your graph probably has units of $pm\\cdot kV$, if you recorded wavelength in $pm$ and voltage in $kV$. So you will want to change units to $m\\cdot V$ first.\n"
   ]
  },
  {
   "cell_type": "code",
   "execution_count": 28,
   "metadata": {},
   "outputs": [
    {
     "name": "stdout",
     "output_type": "stream",
     "text": [
      "h=6.708e-34\n"
     ]
    }
   ],
   "source": [
    "#Complete to change gradient to have volt.metres\n",
    "gradient=linearParam[0]\n",
    "#input the charge on an electron in Coulombs\n",
    "eCharge=1.60217662e-19\n",
    "#velocity of light in m/s\n",
    "cLight=299792458.\n",
    "\n",
    "h_estimate=gradient*eCharge/cLight\n",
    "print(\"h={:.3e}\".format(h_estimate))\n"
   ]
  },
  {
   "cell_type": "markdown",
   "metadata": {},
   "source": [
    "Step 6. Calculate the uncertainty in your estimate of Planck's constant given the uncertainty in your fitted gradient. Remember the units of your uncertainty for the gradient are also originally in $pm\\cdot kV$, so convert them first.\n",
    "Finally round the result to 1 significant figure and state your estimate of Planck's constant in your lab book."
   ]
  },
  {
   "cell_type": "code",
   "execution_count": 8,
   "metadata": {},
   "outputs": [
    {
     "name": "stdout",
     "output_type": "stream",
     "text": [
      "Uncertainty in h_estimate=5.814583109225516e-27\n"
     ]
    }
   ],
   "source": [
    "#complete to change uncertainty in gradient to have units m.V\n",
    "delta_gradient=sdParam[0]*1e-12*1000.\n",
    "#Use uncertainty in gradient to calculate uncertainty in h_estimate\n",
    "delta_h=1.088e+01*eCharge/cLight\n",
    "print('Uncertainty in h_estimate={}'.format(delta_h))"
   ]
  },
  {
   "cell_type": "markdown",
   "metadata": {},
   "source": [
    "Step 7. Calculate an array of $\\lambda_{min}$ values corresponding to the line of best fit, using numpy's polyval."
   ]
  },
  {
   "cell_type": "code",
   "execution_count": 31,
   "metadata": {},
   "outputs": [
    {
     "name": "stdout",
     "output_type": "stream",
     "text": [
      "[ 1.25510041e-06 -2.97304146e-12]\n",
      "[3.325e-11 3.395e-11 3.625e-11 3.875e-11 4.175e-11 4.515e-11 4.945e-11\n",
      " 5.405e-11]\n",
      "[-2.97299973e-12 -2.97299885e-12 -2.97299597e-12 -2.97299283e-12\n",
      " -2.97298906e-12 -2.97298480e-12 -2.97297940e-12 -2.97297362e-12]\n"
     ]
    }
   ],
   "source": [
    "#Complete the polyval command\n",
    "lambda_linFit=np.polyval(linearParam,minLambda)\n",
    "print(linearParam)\n",
    "print(minLambda)\n",
    "print(lambda_linFit)"
   ]
  },
  {
   "cell_type": "markdown",
   "metadata": {},
   "source": [
    "Step 8. Now let's plot what you've got. \n",
    "\n",
    "Plot the experimental data in red using '.' markers, show the uncertainty in black for each measurement and add a label. Plot the line of best fit using green and label it too. Add axes labels and a fitting chart title. Finally add a legend and save it to pdf file."
   ]
  },
  {
   "cell_type": "code",
   "execution_count": 10,
   "metadata": {},
   "outputs": [
    {
     "data": {
      "image/png": "[encoded data removed]",
      "text/plain": [
       "<Figure size 432x288 with 1 Axes>"
      ]
     },
     "metadata": {},
     "output_type": "display_data"
    }
   ],
   "source": [
    "#plot experimental data showing uncertainty as error bars\n",
    "plt.errorbar(1.0/voltages,minLambda,yerr=deltaLambda,linestyle='none',marker='.',c='r',ecolor='k',label='Expt')\n",
    "#plot line of best fit data just as a line and add an appropriate label\n",
    "plt.plot(1./(voltages),lambda_linFit)\n",
    "#add x axis label    \n",
    "plt.xlabel('Inverse Voltage (1/V)')\n",
    "#add y axis label\n",
    "plt.ylabel ('Wavelength (pm)')\n",
    "#add appropriate title\n",
    "plt.suptitle ('Experimental Duane-Hunt Relationship')\n",
    "#add legend\n",
    "plt.legend()\n",
    "#Now set an appropriate file name to save it to file.\n",
    "plt.savefig(\"myplot.pdf\",dpi=300,orientation=\"landscape\")"
   ]
  },
  {
   "cell_type": "markdown",
   "metadata": {},
   "source": [
    "Step 9. Now print a hard-copy of the pdf file containing your graph and stick it in your lab book!"
   ]
  },
  {
   "cell_type": "code",
   "execution_count": 11,
   "metadata": {},
   "outputs": [],
   "source": [
    "np.polyval?"
   ]
  },
  {
   "cell_type": "code",
   "execution_count": 12,
   "metadata": {},
   "outputs": [
    {
     "ename": "NameError",
     "evalue": "name 'm' is not defined",
     "output_type": "error",
     "traceback": [
      "\u001b[0;31m---------------------------------------------------------------------------\u001b[0m",
      "\u001b[0;31mNameError\u001b[0m                                 Traceback (most recent call last)",
      "\u001b[0;32m<ipython-input-12-53de19372ac4>\u001b[0m in \u001b[0;36m<module>\u001b[0;34m()\u001b[0m\n\u001b[0;32m----> 1\u001b[0;31m \u001b[0mh\u001b[0m\u001b[0;34m=\u001b[0m\u001b[0mm\u001b[0m\u001b[0;34m*\u001b[0m\u001b[0me\u001b[0m\u001b[0;34m/\u001b[0m\u001b[0mc\u001b[0m\u001b[0;34m\u001b[0m\u001b[0m\n\u001b[0m",
      "\u001b[0;31mNameError\u001b[0m: name 'm' is not defined"
     ]
    }
   ],
   "source": [
    "h=m*e/c"
   ]
  },
  {
   "cell_type": "code",
   "execution_count": null,
   "metadata": {},
   "outputs": [],
   "source": [
    "1.255e+03*(1.60217662e-19/299792458)"
   ]
  },
  {
   "cell_type": "code",
   "execution_count": null,
   "metadata": {},
   "outputs": [],
   "source": [
    "(1.60217662e-19/299792458)*33.25*35."
   ]
  },
  {
   "cell_type": "code",
   "execution_count": null,
   "metadata": {},
   "outputs": [],
   "source": [
    "lambda_linFit/minLambda"
   ]
  },
  {
   "cell_type": "code",
   "execution_count": null,
   "metadata": {},
   "outputs": [],
   "source": []
  }
 ],
 "metadata": {
  "kernelspec": {
   "display_name": "Python 3",
   "language": "python",
   "name": "python3"
  },
  "language_info": {
   "codemirror_mode": {
    "name": "ipython",
    "version": 3
   },
   "file_extension": ".py",
   "mimetype": "text/x-python",
   "name": "python",
   "nbconvert_exporter": "python",
   "pygments_lexer": "ipython3",
   "version": "3.6.5"
  }
 },
 "nbformat": 4,
 "nbformat_minor": 2
}
